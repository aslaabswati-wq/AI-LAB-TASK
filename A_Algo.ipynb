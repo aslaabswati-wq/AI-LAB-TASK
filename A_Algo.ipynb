{
  "nbformat": 4,
  "nbformat_minor": 0,
  "metadata": {
    "colab": {
      "provenance": []
    },
    "kernelspec": {
      "name": "python3",
      "display_name": "Python 3"
    },
    "language_info": {
      "name": "python"
    }
  },
  "cells": [
    {
      "cell_type": "code",
      "execution_count": 2,
      "metadata": {
        "id": "AHYG2CQMGDw8"
      },
      "outputs": [],
      "source": [
        "graph = {\n",
        "    \"Lahore\": {\"Faisalabad\": 270, \"Islamabad\": 190},\n",
        "    \"Islamabad\": {\"Faisalabad\": 270, \"Peshawar\": 190},\n",
        "    \"Faisalabad\": {\"Lahore\": 180, \"Multan\": 220},\n",
        "    \"Multan\": {\"Faisalabad\": 220, \"Karachi\": 880},\n",
        "    \"Peshawar\": {\"Islamabad\": 190},\n",
        "    \"Karachi\": {\"Multan\": 880}\n",
        "}\n",
        "\n",
        "heuristic = {\n",
        "    \"Lahore\": 1210,\n",
        "    \"Islamabad\": 1100,\n",
        "    \"Faisalabad\": 1050,\n",
        "    \"Multan\": 880,\n",
        "    \"Peshawar\": 1250,\n",
        "    \"Karachi\": 0\n",
        "}\n",
        "\n",
        "import heapq\n",
        "\n",
        "def a_star(graph, start, goal, heuristic):\n",
        "    \"\"\"A* search returning (path, cost).\"\"\"\n",
        "    open_list = []\n",
        "    heapq.heappush(open_list, (heuristic[start], 0, [start]))  # (f=g+h, g, path)\n",
        "    visited = set()\n",
        "\n",
        "    while open_list:\n",
        "        f, g, path = heapq.heappop(open_list)\n",
        "        node = path[-1]\n",
        "\n",
        "        if node == goal:\n",
        "            return path, g  # found the path\n",
        "\n",
        "        if node in visited:\n",
        "            continue\n",
        "        visited.add(node)\n",
        "\n",
        "        for neighbor, cost in graph.get(node, {}).items():\n",
        "            if neighbor not in visited:\n",
        "                g_new = g + cost\n",
        "                f_new = g_new + heuristic[neighbor]\n",
        "                heapq.heappush(open_list, (f_new, g_new, path + [neighbor]))\n"
      ]
    }
  ]
}