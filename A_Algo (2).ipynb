{
  "nbformat": 4,
  "nbformat_minor": 0,
  "metadata": {
    "colab": {
      "provenance": []
    },
    "kernelspec": {
      "name": "python3",
      "display_name": "Python 3"
    },
    "language_info": {
      "name": "python"
    }
  },
  "cells": [
    {
      "cell_type": "code",
      "execution_count": 13,
      "metadata": {
        "colab": {
          "base_uri": "https://localhost:8080/"
        },
        "id": "AHYG2CQMGDw8",
        "outputId": "7742893b-f461-4999-c21a-4155d2dad921"
      },
      "outputs": [
        {
          "output_type": "stream",
          "name": "stdout",
          "text": [
            "BFS Solution path:\n",
            "(0, 0)\n",
            "(4, 0)\n",
            "(1, 3)\n"
          ]
        }
      ],
      "source": [
        "\n",
        "from collections import deque\n",
        "\n",
        "JUG1, JUG2, GOAL = 4, 3, 1\n",
        "\n",
        "def water_jug_bfs():\n",
        "    start = (0, 0)\n",
        "    queue = deque([start])\n",
        "    parent = {start: None}  # store parent state\n",
        "\n",
        "    while queue:\n",
        "        x, y = queue.popleft()\n",
        "\n",
        "        if x == GOAL or y == GOAL:\n",
        "            # reconstruct path\n",
        "            path = []\n",
        "            state = (x, y)\n",
        "            while state is not None:\n",
        "                path.append(state)\n",
        "                state = parent[state]\n",
        "            return path[::-1]\n",
        "\n",
        "        moves = [\n",
        "            (JUG1, y),  # fill jug1\n",
        "            (x, JUG2),  # fill jug2\n",
        "            (0, y),     # empty jug1\n",
        "            (x, 0),     # empty jug2\n",
        "            (x - min(x, JUG2 - y), y + min(x, JUG2 - y)),  # pour jug1→jug2\n",
        "            (x + min(y, JUG1 - x), y - min(y, JUG1 - x))   # pour jug2→jug1\n",
        "        ]\n",
        "\n",
        "        for nxt in moves:\n",
        "            if nxt not in parent:\n",
        "                parent[nxt] = (x, y)\n",
        "                queue.append(nxt)\n",
        "    return None\n",
        "\n",
        "# Run\n",
        "solution = water_jug_bfs()\n",
        "print(\"BFS Solution path:\")\n",
        "for step in solution:\n",
        "    print(step)\n"
      ]
    },
    {
      "cell_type": "code",
      "source": [
        "JUG1, JUG2, GOAL = 4, 3, 1\n",
        "\n",
        "def water_jug_dfs():\n",
        "    start = (0, 0)\n",
        "    stack = [start]\n",
        "    parent = {start: None}\n",
        "\n",
        "    while stack:\n",
        "        state = stack.pop()\n",
        "\n",
        "        if state[0] == GOAL or state[1] == GOAL:\n",
        "            # reconstruct path\n",
        "            path = []\n",
        "            while state is not None:\n",
        "                path.append(state)\n",
        "                state = parent[state]\n",
        "            return path[::-1]\n",
        "\n",
        "        x, y = state\n",
        "        moves = [\n",
        "            (JUG1, y),  # fill jug1\n",
        "            (x, JUG2),  # fill jug2\n",
        "            (0, y),     # empty jug1\n",
        "            (x, 0),     # empty jug2\n",
        "            (x - min(x, JUG2 - y), y + min(x, JUG2 - y)),  # pour jug1→jug2\n",
        "            (x + min(y, JUG1 - x), y - min(y, JUG1 - x))   # pour jug2→jug1\n",
        "        ]\n",
        "\n",
        "        for nxt in moves:\n",
        "            if nxt not in parent:  # not visited\n",
        "                parent[nxt] = state\n",
        "                stack.append(nxt)\n",
        "    return None\n",
        "\n",
        "# Run\n",
        "solution = water_jug_dfs()\n",
        "print(\"DFS Solution path:\")\n",
        "for step in solution:\n",
        "    print(step)\n",
        "\n"
      ],
      "metadata": {
        "colab": {
          "base_uri": "https://localhost:8080/"
        },
        "id": "kS34kO7ecUKq",
        "outputId": "5b6bcafb-4d08-4055-e04d-62accdb0a843"
      },
      "execution_count": 18,
      "outputs": [
        {
          "output_type": "stream",
          "name": "stdout",
          "text": [
            "DFS Solution path:\n",
            "(0, 0)\n",
            "(0, 3)\n",
            "(3, 0)\n",
            "(3, 3)\n",
            "(4, 2)\n",
            "(0, 2)\n",
            "(2, 0)\n",
            "(2, 3)\n",
            "(4, 1)\n"
          ]
        }
      ]
    },
    {
      "cell_type": "code",
      "source": [
        "import heapq\n",
        "\n",
        "import heapq\n",
        "\n",
        "JUG1, JUG2, GOAL = 4, 3, 1\n",
        "\n",
        "def heuristic(state):\n",
        "    x, y = state\n",
        "    return min(abs(x - GOAL), abs(y - GOAL))\n",
        "\n",
        "def a_star_water_jug():\n",
        "    start = (0, 0)\n",
        "    open_list = [(heuristic(start), 0, start)]  # (f, g, state)\n",
        "    parent = {start: None}\n",
        "\n",
        "    while open_list:\n",
        "        f, g, state = heapq.heappop(open_list)\n",
        "\n",
        "        if state[0] == GOAL or state[1] == GOAL:\n",
        "            # reconstruct path\n",
        "            path = []\n",
        "            while state is not None:\n",
        "                path.append(state)\n",
        "                state = parent[state]\n",
        "            return path[::-1]\n",
        "\n",
        "        x, y = state\n",
        "        moves = [\n",
        "            (JUG1, y),  # fill jug1\n",
        "            (x, JUG2),  # fill jug2\n",
        "            (0, y),     # empty jug1\n",
        "            (x, 0),     # empty jug2\n",
        "            (x - min(x, JUG2 - y), y + min(x, JUG2 - y)),  # pour jug1→jug2\n",
        "            (x + min(y, JUG1 - x), y - min(y, JUG1 - x))   # pour jug2→jug1\n",
        "        ]\n",
        "\n",
        "        for nxt in moves:\n",
        "            if nxt not in parent:  # not visited\n",
        "                parent[nxt] = state\n",
        "                new_g = g + 1\n",
        "                new_f = new_g + heuristic(nxt)\n",
        "                heapq.heappush(open_list, (new_f, new_g, nxt))\n",
        "    return None\n",
        "\n",
        "# Run\n",
        "solution = a_star_water_jug()\n",
        "print(\"A* Solution path:\")\n",
        "for step in solution:\n",
        "    print(step)"
      ],
      "metadata": {
        "colab": {
          "base_uri": "https://localhost:8080/"
        },
        "id": "_dvOay2Mc4Ta",
        "outputId": "7a3c91a9-795f-468f-8800-ed540f1dbcd0"
      },
      "execution_count": 19,
      "outputs": [
        {
          "output_type": "stream",
          "name": "stdout",
          "text": [
            "A* Solution path:\n",
            "(0, 0)\n",
            "(4, 0)\n",
            "(1, 3)\n"
          ]
        }
      ]
    },
    {
      "cell_type": "markdown",
      "source": [
        "ANSWER NO 1\n",
        "When we solve the water jug problem with BFS, DFS, and A*, the paths they find are not always the same.\n",
        "\n",
        "BFS finds the solution path:\n",
        "\n",
        "(0, 0) → (4, 0) → (1, 3)\n",
        "ANSWER NO 2\n",
        "This is the shortest path with only 2 moves.\n",
        "\n",
        "DFS gives a longer path, for example:\n",
        "\n",
        "(0, 0) → (0, 3) → (4, 3) → (4, 0) → (1, 3)\n",
        "\n",
        "ANSWER NO 3\n",
        "It eventually reaches the goal but takes extra steps.\n",
        "\n",
        "A*, thanks to the heuristic, also finds the shortest path:\n",
        "\n",
        "(0, 0) → (4, 0) → (1, 3)\n",
        "\n",
        "Which gives the shortest path?\n",
        "\n",
        "BFS and A* both find the shortest path. DFS does not guarantee that—it just goes deep until it stumbles upon a solution, which may be longer.\n",
        "\n",
        "Time and memory efficiency:\n",
        "\n",
        "BFS checks every state level by level, so it always finds the shortest path, but it can be slow and use a lot of memory.\n",
        "\n",
        "DFS uses very little memory because it just goes down one branch at a time, but it wastes time exploring long or useless paths and doesn’t always give the shortest answer.\n",
        "\n",
        "A* is usually the most efficient: it uses the heuristic to guide the search, expands fewer states than BFS, and still finds the shortest path as long as the heuristic is good. Its memory use is higher than DFS but usually better than BFS.\n",
        "\n",
        "👉 In short:\n",
        "\n",
        "BFS = guaranteed shortest path, but heavy on memory.\n",
        "\n",
        "DFS = light on memory, but not reliable for shortest path.\n",
        "\n",
        "A* = combines the best of both; it’s usually the fastest and still gives the shortest path."
      ],
      "metadata": {
        "id": "ys3pC2vqdywK"
      }
    }
  ]
}